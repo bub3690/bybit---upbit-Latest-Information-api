{
 "cells": [
  {
   "cell_type": "code",
   "execution_count": 2,
   "metadata": {},
   "outputs": [
    {
     "name": "stdout",
     "output_type": "stream",
     "text": [
      "Collecting websockets\n",
      "  Downloading websockets-8.1-cp37-cp37m-manylinux2010_x86_64.whl (79 kB)\n",
      "\u001b[K     |████████████████████████████████| 79 kB 1.5 MB/s eta 0:00:011\n",
      "\u001b[?25hInstalling collected packages: websockets\n",
      "Successfully installed websockets-8.1\n",
      "\u001b[33mWARNING: You are using pip version 20.2.4; however, version 21.0.1 is available.\n",
      "You should consider upgrading via the '/usr/local/bin/python3.7 -m pip install --upgrade pip' command.\u001b[0m\n"
     ]
    }
   ],
   "source": [
    "!pip install bybit"
   ]
  },
  {
   "cell_type": "code",
   "execution_count": 6,
   "metadata": {},
   "outputs": [],
   "source": [
    "import json\n",
    "import time\n",
    "import bybit\n",
    "f = open(\"./myApi.txt\", 'r')\n",
    "api_key = f.readline().strip()\n",
    "api_pw = f.readline().strip()\n",
    "f.close()"
   ]
  },
  {
   "cell_type": "code",
   "execution_count": 8,
   "metadata": {
    "scrolled": true
   },
   "outputs": [
    {
     "name": "stdout",
     "output_type": "stream",
     "text": [
      "비트코인 usd:  45306.50\n",
      "이더리움 usd:  1370.70\n",
      "리플 usd:  1370.70\n",
      "비트코인 usd:  45306.50\n",
      "이더리움 usd:  1371.70\n",
      "리플 usd:  1371.70\n",
      "비트코인 usd:  45307.00\n",
      "이더리움 usd:  1371.70\n",
      "리플 usd:  1371.70\n",
      "비트코인 usd:  45320.50\n",
      "이더리움 usd:  1371.75\n",
      "리플 usd:  1371.75\n",
      "비트코인 usd:  45320.50\n",
      "이더리움 usd:  1372.10\n",
      "리플 usd:  1372.10\n",
      "비트코인 usd:  45321.00\n",
      "이더리움 usd:  1372.40\n",
      "리플 usd:  1372.40\n",
      "비트코인 usd:  45321.00\n",
      "이더리움 usd:  1372.40\n",
      "리플 usd:  1372.40\n",
      "비트코인 usd:  45321.00\n",
      "이더리움 usd:  1371.80\n",
      "리플 usd:  1371.80\n",
      "비트코인 usd:  45320.50\n",
      "이더리움 usd:  1371.35\n",
      "리플 usd:  1371.35\n",
      "비트코인 usd:  45327.00\n",
      "이더리움 usd:  1371.75\n",
      "리플 usd:  1371.75\n",
      "비트코인 usd:  45329.50\n",
      "이더리움 usd:  1372.50\n",
      "리플 usd:  1372.50\n",
      "비트코인 usd:  45329.00\n",
      "이더리움 usd:  1372.50\n",
      "리플 usd:  1372.50\n",
      "비트코인 usd:  45329.50\n",
      "이더리움 usd:  1372.50\n",
      "리플 usd:  1372.50\n",
      "비트코인 usd:  45329.00\n",
      "이더리움 usd:  1371.75\n",
      "리플 usd:  1371.75\n",
      "비트코인 usd:  45329.50\n",
      "이더리움 usd:  1371.65\n",
      "리플 usd:  1371.65\n",
      "비트코인 usd:  45328.50\n",
      "이더리움 usd:  1371.20\n",
      "리플 usd:  1371.20\n",
      "비트코인 usd:  45300.00\n",
      "이더리움 usd:  1370.35\n",
      "리플 usd:  1370.35\n",
      "비트코인 usd:  45300.50\n",
      "이더리움 usd:  1370.40\n",
      "리플 usd:  1370.40\n",
      "비트코인 usd:  45302.00\n",
      "이더리움 usd:  1370.90\n",
      "리플 usd:  1370.90\n",
      "비트코인 usd:  45305.00\n",
      "이더리움 usd:  1370.90\n",
      "리플 usd:  1370.90\n",
      "비트코인 usd:  45305.50\n",
      "이더리움 usd:  1371.10\n",
      "리플 usd:  1371.10\n",
      "비트코인 usd:  45305.00\n",
      "이더리움 usd:  1371.10\n",
      "리플 usd:  1371.10\n",
      "비트코인 usd:  45305.50\n",
      "이더리움 usd:  1371.10\n",
      "리플 usd:  1371.10\n",
      "비트코인 usd:  45316.00\n",
      "이더리움 usd:  1371.55\n",
      "리플 usd:  1371.55\n",
      "비트코인 usd:  45316.50\n",
      "이더리움 usd:  1371.60\n",
      "리플 usd:  1371.60\n",
      "비트코인 usd:  45316.50\n",
      "이더리움 usd:  1371.60\n",
      "리플 usd:  1371.60\n",
      "비트코인 usd:  45316.00\n",
      "이더리움 usd:  1371.60\n",
      "리플 usd:  1371.60\n"
     ]
    },
    {
     "name": "stderr",
     "output_type": "stream",
     "text": [
      "\n",
      "KeyboardInterrupt\n",
      "\n"
     ]
    }
   ],
   "source": [
    "\n",
    "while(1):\n",
    "    client = bybit.bybit(test=False, api_key=api_key, api_secret=api_pw)\n",
    "    btcusd=client.Market.Market_symbolInfo(symbol=\"BTCUSD\").result()\n",
    "    ethusd=client.Market.Market_symbolInfo(symbol=\"ETHUSD\").result()\n",
    "    xrpusd=client.Market.Market_symbolInfo(symbol=\"XRPUSD\").result()\n",
    "    print(\"비트코인 usd: \", btcusd[0]['result'][0]['last_price'])\n",
    "    print(\"이더리움 usd: \", ethusd[0]['result'][0]['last_price'])\n",
    "    print(\"리플 usd: \", ethusd[0]['result'][0]['last_price'])\n",
    "    time.sleep(1)"
   ]
  }
 ],
 "metadata": {
  "kernelspec": {
   "display_name": "Python 3",
   "language": "python",
   "name": "python3"
  },
  "language_info": {
   "codemirror_mode": {
    "name": "ipython",
    "version": 3
   },
   "file_extension": ".py",
   "mimetype": "text/x-python",
   "name": "python",
   "nbconvert_exporter": "python",
   "pygments_lexer": "ipython3",
   "version": "3.7.4"
  }
 },
 "nbformat": 4,
 "nbformat_minor": 4
}
